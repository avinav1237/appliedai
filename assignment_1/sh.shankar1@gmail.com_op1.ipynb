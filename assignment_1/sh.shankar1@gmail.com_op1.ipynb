{
 "cells": [
  {
   "cell_type": "code",
   "execution_count": 1,
   "metadata": {},
   "outputs": [
    {
     "name": "stdout",
     "output_type": "stream",
     "text": [
      "Python 3.4.3\n"
     ]
    }
   ],
   "source": [
    "!python --version"
   ]
  },
  {
   "cell_type": "markdown",
   "metadata": {},
   "source": [
    "### 1. Write a function that inputs a number and prints the multiplication table of that number"
   ]
  },
  {
   "cell_type": "code",
   "execution_count": 2,
   "metadata": {},
   "outputs": [
    {
     "name": "stdout",
     "output_type": "stream",
     "text": [
      "5\n",
      "10\n",
      "15\n",
      "20\n",
      "25\n",
      "30\n"
     ]
    }
   ],
   "source": [
    "def print_multiplication_table(number, count):\n",
    "    for i in range(number, number * (count+1), number):\n",
    "        print(i)\n",
    "        \n",
    "print_multiplication_table(5, 6)"
   ]
  },
  {
   "cell_type": "markdown",
   "metadata": {},
   "source": [
    "### 2. Write a program to print twin primes less than 1000. If two consecutive odd numbers are\n",
    "### both prime then they are known as twin primes"
   ]
  },
  {
   "cell_type": "code",
   "execution_count": 3,
   "metadata": {},
   "outputs": [],
   "source": [
    "def check_prime(number):\n",
    "    for i in range(2, (number//2)+1, 1):\n",
    "        if number % i == 0:\n",
    "            return False\n",
    "            break\n",
    "    else:\n",
    "        return True"
   ]
  },
  {
   "cell_type": "code",
   "execution_count": 4,
   "metadata": {},
   "outputs": [
    {
     "name": "stdout",
     "output_type": "stream",
     "text": [
      "[(3, 5), (5, 7), (11, 13), (17, 19), (29, 31), (41, 43), (59, 61), (71, 73), (101, 103), (107, 109), (137, 139), (149, 151), (179, 181), (191, 193), (197, 199), (227, 229), (239, 241), (269, 271), (281, 283), (311, 313), (347, 349), (419, 421), (431, 433), (461, 463), (521, 523), (569, 571), (599, 601), (617, 619), (641, 643), (659, 661), (809, 811), (821, 823), (827, 829), (857, 859), (881, 883)]\n"
     ]
    }
   ],
   "source": [
    "# get odd series till 1000\n",
    "odd_numbers_set = [(i, i+2) for i in range(3, 1000, 2) if i+2 < 1000 ]\n",
    "\n",
    "odd_numbers_set[1][0]\n",
    "# apply prime function and store information\n",
    "twin_prime_set = [t for t in odd_numbers_set if check_prime(t[0]) and check_prime(t[1])]\n",
    "\n",
    "print(twin_prime_set)"
   ]
  },
  {
   "cell_type": "markdown",
   "metadata": {},
   "source": [
    "### 3. Write a program to find out the prime factors of a number. Example: prime factors of 56 -\n",
    "### 2, 2, 2, 7"
   ]
  },
  {
   "cell_type": "code",
   "execution_count": 10,
   "metadata": {},
   "outputs": [],
   "source": [
    "import math\n",
    "def list_prime_factors(number):\n",
    "    factors = []\n",
    "    \n",
    "    while number % 2 == 0:\n",
    "        factors.append(2)\n",
    "        number = number / 2\n",
    "    \n",
    "    for i in range(3, int(math.sqrt(number) + 1), 2):\n",
    "        \n",
    "        while number % i == 0:\n",
    "            factors.append(i)\n",
    "            number = int(number/i)\n",
    "            \n",
    "    if number > 2:\n",
    "        factors.append(int(number))\n",
    "        \n",
    "    return factors"
   ]
  },
  {
   "cell_type": "code",
   "execution_count": 13,
   "metadata": {},
   "outputs": [
    {
     "name": "stdout",
     "output_type": "stream",
     "text": [
      "[2, 2, 2, 7]\n"
     ]
    }
   ],
   "source": [
    "print(list_prime_factors(56))"
   ]
  },
  {
   "cell_type": "markdown",
   "metadata": {},
   "source": [
    "### 4. Write a program to implement these formulae of permutations and combinations.\n",
    "### Number of permutations of n objects taken r at a time: p(n, r) = n! / (n-r)!. Number of\n",
    "### combinations of n objects taken r at a time is: c(n, r) = n! / (r!*(n-r)!) = p(n,r) / r!"
   ]
  },
  {
   "cell_type": "code",
   "execution_count": 4,
   "metadata": {},
   "outputs": [],
   "source": [
    "def factorial(n):\n",
    "    acc = 1\n",
    "    def fact(n, acc):\n",
    "        if n <= 1:\n",
    "            return acc\n",
    "        return fact(n-1, acc * n)\n",
    "    return fact(n, acc)"
   ]
  },
  {
   "cell_type": "code",
   "execution_count": 6,
   "metadata": {},
   "outputs": [],
   "source": [
    "def permutation(n, r):\n",
    "    return factorial(n)/factorial(n-r)\n",
    "\n",
    "def combination(n, r):\n",
    "    return permutation(n, r)/factorial(r)"
   ]
  },
  {
   "cell_type": "code",
   "execution_count": 7,
   "metadata": {},
   "outputs": [
    {
     "name": "stdout",
     "output_type": "stream",
     "text": [
      "120.0\n"
     ]
    }
   ],
   "source": [
    "print(permutation(5,5))"
   ]
  },
  {
   "cell_type": "code",
   "execution_count": 8,
   "metadata": {},
   "outputs": [
    {
     "name": "stdout",
     "output_type": "stream",
     "text": [
      "1.0\n"
     ]
    }
   ],
   "source": [
    "print(combination(5, 5))"
   ]
  },
  {
   "cell_type": "markdown",
   "metadata": {},
   "source": [
    "### 5. Write a function that converts a decimal number to binary number"
   ]
  },
  {
   "cell_type": "code",
   "execution_count": 13,
   "metadata": {},
   "outputs": [],
   "source": [
    "def decimal_to_binary(n):\n",
    "    acc = []\n",
    "    for i in range(31, -1, -1):\n",
    "        k = n >> i\n",
    "        if (k & 1):\n",
    "            acc.append(1)\n",
    "        else:\n",
    "            acc.append(0)\n",
    "    return acc"
   ]
  },
  {
   "cell_type": "code",
   "execution_count": 15,
   "metadata": {},
   "outputs": [
    {
     "name": "stdout",
     "output_type": "stream",
     "text": [
      "[0, 0, 0, 0, 0, 0, 0, 0, 0, 0, 0, 0, 0, 0, 0, 0, 0, 0, 0, 0, 0, 0, 0, 0, 0, 0, 0, 0, 1, 0, 1, 0]\n"
     ]
    }
   ],
   "source": [
    "print(decimal_to_binary(10))"
   ]
  },
  {
   "cell_type": "markdown",
   "metadata": {},
   "source": [
    "### 6. Write a function cubesum() that accepts an integer and returns the sum of the cubes of\n",
    "### individual digits of that number. Use this function to make functions PrintArmstrong() and\n",
    "### isArmstrong() to print Armstrong numbers and to find whether is an Armstrong number."
   ]
  },
  {
   "cell_type": "code",
   "execution_count": 30,
   "metadata": {},
   "outputs": [],
   "source": [
    "def cubesum(n):\n",
    "    acc = []\n",
    "    while n >=10:\n",
    "        acc.append(n%10)\n",
    "        n = n//10\n",
    "    acc.append(n)\n",
    "    cube_sum = sum([i**3 for i in acc])\n",
    "    return cube_sum"
   ]
  },
  {
   "cell_type": "code",
   "execution_count": 32,
   "metadata": {},
   "outputs": [],
   "source": [
    "def printArmStrong(n):\n",
    "    print(cubesum(n))\n",
    "    \n",
    "def isArmStrong(n):\n",
    "    return True if cubesum(n)==n else False"
   ]
  },
  {
   "cell_type": "code",
   "execution_count": 33,
   "metadata": {},
   "outputs": [
    {
     "name": "stdout",
     "output_type": "stream",
     "text": [
      "153\n",
      "True\n"
     ]
    }
   ],
   "source": [
    "printArmStrong(153)\n",
    "\n",
    "print(isArmStrong(153))"
   ]
  },
  {
   "cell_type": "markdown",
   "metadata": {},
   "source": [
    "### 7. Write a function prodDigits() that inputs a number and returns the product of digits of that\n",
    "### number."
   ]
  },
  {
   "cell_type": "code",
   "execution_count": 35,
   "metadata": {},
   "outputs": [],
   "source": [
    "from functools import reduce\n",
    "\n",
    "def prodDigits(n):\n",
    "    acc = []\n",
    "    while n >= 10:\n",
    "        acc.append(n%10)\n",
    "        n = n//10\n",
    "    acc.append(n)\n",
    "    return reduce((lambda x,y : x*y), acc)"
   ]
  },
  {
   "cell_type": "code",
   "execution_count": 37,
   "metadata": {},
   "outputs": [
    {
     "name": "stdout",
     "output_type": "stream",
     "text": [
      "20\n"
     ]
    }
   ],
   "source": [
    "print(prodDigits(145))"
   ]
  },
  {
   "cell_type": "markdown",
   "metadata": {},
   "source": [
    "### 8. If all digits of a number n are multiplied by each other repeating with the product, the one\n",
    "### digit number obtained at last is called the multiplicative digital root of n. The number of\n",
    "### times digits need to be multiplied to reach one digit is called the multiplicative\n",
    "### persistance of n.\n",
    "### Example: 86 -> 48 -> 32 -> 6 (MDR 6, MPersistence 3)\n",
    "###  341 -> 12->2 (MDR 2, MPersistence 2)\n",
    "### Using the function prodDigits() of previous exercise write functions MDR() and\n",
    "### MPersistence() that input a number and return its multiplicative digital root and\n",
    "### multiplicative persistence respectively"
   ]
  },
  {
   "cell_type": "code",
   "execution_count": 42,
   "metadata": {},
   "outputs": [],
   "source": [
    "def MDR(n):\n",
    "    while n >=10:\n",
    "        n = prodDigits(n)\n",
    "    return n\n",
    "\n",
    "def MPeristence(n):\n",
    "    counter = 0\n",
    "    while n >= 10:\n",
    "        n = prodDigits(n)\n",
    "        counter += 1\n",
    "    return counter"
   ]
  },
  {
   "cell_type": "code",
   "execution_count": 43,
   "metadata": {},
   "outputs": [
    {
     "name": "stdout",
     "output_type": "stream",
     "text": [
      "6\n",
      "3\n"
     ]
    }
   ],
   "source": [
    "print(MDR(86))\n",
    "print(MPeristence(86))"
   ]
  },
  {
   "cell_type": "markdown",
   "metadata": {},
   "source": [
    "### 9. Write a function sumPdivisors() that finds the sum of proper divisors of a number. Proper\n",
    "### divisors of a number are those numbers by which the number is divisible, except the\n",
    "### number itself. For example proper divisors of 36 are 1, 2, 3, 4, 6, 9, 18"
   ]
  },
  {
   "cell_type": "code",
   "execution_count": 45,
   "metadata": {},
   "outputs": [],
   "source": [
    "def get_proper_divisors(n):\n",
    "    acc = []\n",
    "    for i in range(1, n):\n",
    "        if n%i == 0:\n",
    "            acc.append(i)\n",
    "    return acc\n",
    "\n",
    "def sumPdivisors(n):\n",
    "    return sum(get_proper_divisors(n))"
   ]
  },
  {
   "cell_type": "code",
   "execution_count": 48,
   "metadata": {},
   "outputs": [
    {
     "name": "stdout",
     "output_type": "stream",
     "text": [
      "55\n"
     ]
    }
   ],
   "source": [
    "print(sumPdivisors(36))"
   ]
  },
  {
   "cell_type": "markdown",
   "metadata": {},
   "source": [
    "### 10. A number is called perfect if the sum of proper divisors of that number is equal to the\n",
    "### number. For example 28 is perfect number, since 1+2+4+7+14=28. Write a program to\n",
    "### print all the perfect numbers in a given range"
   ]
  },
  {
   "cell_type": "code",
   "execution_count": 51,
   "metadata": {},
   "outputs": [],
   "source": [
    "def is_perfect_number(n):\n",
    "    return True if sumPdivisors(n) == n else False"
   ]
  },
  {
   "cell_type": "code",
   "execution_count": 52,
   "metadata": {},
   "outputs": [
    {
     "name": "stdout",
     "output_type": "stream",
     "text": [
      "True\n"
     ]
    }
   ],
   "source": [
    "print(is_perfect_number(28))"
   ]
  },
  {
   "cell_type": "markdown",
   "metadata": {},
   "source": [
    "### 11. Two different numbers are called amicable numbers if the sum of the proper divisors of\n",
    "### each is equal to the other number. For example 220 and 284 are amicable numbers.\n",
    "### Sum of proper divisors of 220 = 1+2+4+5+10+11+20+22+44+55+110 = 284\n",
    "### Sum of proper divisors of 284 = 1+2+4+71+142 = 220\n",
    "### Write a function to print pairs of amicable numbers in a range"
   ]
  },
  {
   "cell_type": "code",
   "execution_count": 56,
   "metadata": {},
   "outputs": [],
   "source": [
    "def print_amicable_series(n_range):\n",
    "    acc = []\n",
    "    for i in range(1, n_range):\n",
    "        for j in range(1, n_range):\n",
    "            if sumPdivisors(i) == j and sumPdivisors(j) == i and i != j:\n",
    "                acc.append((i, j))\n",
    "    print(acc)"
   ]
  },
  {
   "cell_type": "code",
   "execution_count": 57,
   "metadata": {},
   "outputs": [
    {
     "name": "stdout",
     "output_type": "stream",
     "text": [
      "[(220, 284), (284, 220)]\n"
     ]
    }
   ],
   "source": [
    "print_amicable_series(1000)"
   ]
  },
  {
   "cell_type": "markdown",
   "metadata": {},
   "source": [
    "### 12. Write a program which can filter odd numbers in a list by using filter function"
   ]
  },
  {
   "cell_type": "code",
   "execution_count": 63,
   "metadata": {},
   "outputs": [],
   "source": [
    "def filter_odd_numbers(numbers):\n",
    "    return list(filter((lambda x: x%2 == 1), numbers))"
   ]
  },
  {
   "cell_type": "code",
   "execution_count": 64,
   "metadata": {},
   "outputs": [
    {
     "name": "stdout",
     "output_type": "stream",
     "text": [
      "[3, 67, 13]\n"
     ]
    }
   ],
   "source": [
    "print(filter_odd_numbers([2,3,67,34,13]))"
   ]
  },
  {
   "cell_type": "markdown",
   "metadata": {},
   "source": [
    "### 13. Write a program which can map() to make a list whose elements are cube of elements in\n",
    "### a given list"
   ]
  },
  {
   "cell_type": "code",
   "execution_count": 66,
   "metadata": {},
   "outputs": [],
   "source": [
    "def get_cube_list(numbers):\n",
    "    return list(map((lambda x : x**3), numbers))"
   ]
  },
  {
   "cell_type": "code",
   "execution_count": 67,
   "metadata": {},
   "outputs": [
    {
     "name": "stdout",
     "output_type": "stream",
     "text": [
      "[8, 64, 216]\n"
     ]
    }
   ],
   "source": [
    "print(get_cube_list([2,4,6]))"
   ]
  },
  {
   "cell_type": "markdown",
   "metadata": {},
   "source": [
    "### 14. Write a program which can map() and filter() to make a list whose elements are cube of\n",
    "### even number in a given list"
   ]
  },
  {
   "cell_type": "code",
   "execution_count": 68,
   "metadata": {},
   "outputs": [],
   "source": [
    "def get_cube_for_even_numbers(numbers):\n",
    "    return list(map((lambda x: x**3), filter((lambda x: x %2 ==0), numbers)))"
   ]
  },
  {
   "cell_type": "code",
   "execution_count": 69,
   "metadata": {},
   "outputs": [
    {
     "name": "stdout",
     "output_type": "stream",
     "text": [
      "[8, 64, 216]\n"
     ]
    }
   ],
   "source": [
    "print(get_cube_for_even_numbers([1,2,3,4,5,6,7]))"
   ]
  }
 ],
 "metadata": {
  "kernelspec": {
   "display_name": "Python 3",
   "language": "python",
   "name": "python3"
  },
  "language_info": {
   "codemirror_mode": {
    "name": "ipython",
    "version": 3
   },
   "file_extension": ".py",
   "mimetype": "text/x-python",
   "name": "python",
   "nbconvert_exporter": "python",
   "pygments_lexer": "ipython3",
   "version": "3.6.5"
  }
 },
 "nbformat": 4,
 "nbformat_minor": 2
}
