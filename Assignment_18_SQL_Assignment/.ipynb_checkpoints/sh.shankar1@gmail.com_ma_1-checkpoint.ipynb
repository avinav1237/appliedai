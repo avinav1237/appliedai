{
 "cells": [
  {
   "cell_type": "code",
   "execution_count": 1,
   "metadata": {},
   "outputs": [],
   "source": [
    "import sqlite3\n",
    "import logging\n",
    "\n",
    "def fetch_connection(db_file):\n",
    "    conn = None\n",
    "    try:\n",
    "        conn = sqlite3.connect(db_file)\n",
    "    except:\n",
    "        logging.error('Unable to create connection')\n",
    "        \n",
    "    return conn"
   ]
  },
  {
   "cell_type": "code",
   "execution_count": 2,
   "metadata": {},
   "outputs": [
    {
     "name": "stderr",
     "output_type": "stream",
     "text": [
      "Python 3.6.8 :: Anaconda, Inc.\n"
     ]
    }
   ],
   "source": [
    "!python --version"
   ]
  },
  {
   "cell_type": "code",
   "execution_count": 3,
   "metadata": {},
   "outputs": [],
   "source": [
    "conn = fetch_connection('Db-IMDB.db')"
   ]
  },
  {
   "cell_type": "markdown",
   "metadata": {},
   "source": [
    "#### 1. List all the directors who directed a 'Comedy' movie in a leap year. (You need to check that the genre is 'Comedy’ and year is a leap year) Your query should return director name, the movie name, and the year."
   ]
  },
  {
   "cell_type": "code",
   "execution_count": 6,
   "metadata": {},
   "outputs": [],
   "source": [
    "import pandas as pd\n",
    "result_1 = pd.read_sql_query('''select m.title, m.year, p.name as \\'Director\\' from Person p \n",
    "                                join M_Director md on md.pid = p.pid \n",
    "                                join Movie m on m.mid = md.mid \n",
    "                                join M_Genre mg on mg.mid = m.mid\n",
    "                                join Genre g on g.gid = mg.gid \n",
    "                                where g.name like '%Comedy%'\n",
    "                                and m.year % 4 = 0\n",
    "                                ''', conn)"
   ]
  },
  {
   "cell_type": "code",
   "execution_count": 7,
   "metadata": {},
   "outputs": [
    {
     "name": "stdout",
     "output_type": "stream",
     "text": [
      "                                 title  year               Director\n",
      "0                           Mastizaade  2016           Milap Zaveri\n",
      "1                           Mastizaade  2016           Milap Zaveri\n",
      "2    Harold & Kumar Go to White Castle  2004           Danny Leiner\n",
      "3    Harold & Kumar Go to White Castle  2004           Danny Leiner\n",
      "4                   Gangs of Wasseypur  2012         Anurag Kashyap\n",
      "..                                 ...   ...                    ...\n",
      "383                        Let's Enjoy  2004  Siddharth Anand Kumar\n",
      "384                            Sathyam  2008        Amma Rajasekhar\n",
      "385                      Tandoori Love  2008          Oliver Paulus\n",
      "386                        Le Halua Le  2012            Raja Chanda\n",
      "387                  Raja Aur Rangeeli  1996       K.S. Prakash Rao\n",
      "\n",
      "[388 rows x 3 columns]\n"
     ]
    }
   ],
   "source": [
    "print(result_1)"
   ]
  },
  {
   "cell_type": "markdown",
   "metadata": {},
   "source": [
    "#### 2. List the names of all the actors who played in the movie 'Anand' (1971)"
   ]
  },
  {
   "cell_type": "code",
   "execution_count": 8,
   "metadata": {},
   "outputs": [],
   "source": [
    "result_2 = pd.read_sql_query('''\n",
    "                            select p.name from Person p \n",
    "                            join M_Cast mc on p.pid = trim(mc.pid) \n",
    "                            join Movie m on m.mid = mc.mid \n",
    "                            where m.title=\\'Anand\\' and m.year = 1971\n",
    "                            ''', conn)"
   ]
  },
  {
   "cell_type": "code",
   "execution_count": 9,
   "metadata": {},
   "outputs": [
    {
     "name": "stdout",
     "output_type": "stream",
     "text": [
      "                 Name\n",
      "0    Amitabh Bachchan\n",
      "1       Rajesh Khanna\n",
      "2      Brahm Bhardwaj\n",
      "3          Ramesh Deo\n",
      "4           Seema Deo\n",
      "5          Dev Kishan\n",
      "6         Durga Khote\n",
      "7       Lalita Kumari\n",
      "8        Lalita Pawar\n",
      "9        Atam Prakash\n",
      "10      Sumita Sanyal\n",
      "11     Asit Kumar Sen\n",
      "12         Dara Singh\n",
      "13      Johnny Walker\n",
      "14          Moolchand\n",
      "15       Gurnam Singh\n",
      "16             Savita\n"
     ]
    }
   ],
   "source": [
    "print(result_2)"
   ]
  },
  {
   "cell_type": "markdown",
   "metadata": {},
   "source": [
    "#### 3. List all the actors who acted in a film before 1970 and in a film after 1990. (That is: < 1970 and > 1990.)"
   ]
  },
  {
   "cell_type": "code",
   "execution_count": 10,
   "metadata": {},
   "outputs": [],
   "source": [
    "import pandas as pd\n",
    "\n",
    "result_3 = pd.read_sql_query('''\n",
    "                            select p.name from Person p \n",
    "                            join M_Cast mc on p.pid = trim(mc.pid)\n",
    "                            join Movie m on m.mid = mc.mid \n",
    "                            where m.year < 1970 or m.year > 1990\n",
    "                            ''', conn)"
   ]
  },
  {
   "cell_type": "code",
   "execution_count": 11,
   "metadata": {},
   "outputs": [
    {
     "name": "stdout",
     "output_type": "stream",
     "text": [
      "                   Name\n",
      "0        Christian Bale\n",
      "1        Cate Blanchett\n",
      "2         John Benfield\n",
      "3           Lorna Brown\n",
      "4       Patrick Godfrey\n",
      "...                 ...\n",
      "70523         Alok Nath\n",
      "70524      Yunus Parvez\n",
      "70525       Asha Sharma\n",
      "70526      Ajay Nagrath\n",
      "70527        Arun Govil\n",
      "\n",
      "[70528 rows x 1 columns]\n"
     ]
    }
   ],
   "source": [
    "print(result_3)"
   ]
  },
  {
   "cell_type": "markdown",
   "metadata": {},
   "source": [
    "#### 4. List all directors who directed 10 movies or more, in descending order of the number of movies they directed. Return the directors' names and the number of movies each of them directed."
   ]
  },
  {
   "cell_type": "code",
   "execution_count": 12,
   "metadata": {},
   "outputs": [],
   "source": [
    "result_4 = pd.read_sql_query('''\n",
    "                                select p.name, vw.movie_count \n",
    "                                from Person p \n",
    "                                join \n",
    "                                (\n",
    "                                select md.pid, count(*) as movie_count \n",
    "                                from M_Director md \n",
    "                                group by md.pid \n",
    "                                having count(*) > 10\n",
    "                                )vw on p.pid = vw.pid\n",
    "                            ''', conn)"
   ]
  },
  {
   "cell_type": "code",
   "execution_count": 13,
   "metadata": {},
   "outputs": [
    {
     "name": "stdout",
     "output_type": "stream",
     "text": [
      "                        Name  movie_count\n",
      "0           Mahesh Manjrekar           15\n",
      "1             Satish Kaushik           12\n",
      "2             Anurag Kashyap           13\n",
      "3                Yash Chopra           21\n",
      "4               Subhash Ghai           18\n",
      "..                       ...          ...\n",
      "83               Umesh Mehra           12\n",
      "84  Ananth Narayan Mahadevan           13\n",
      "85        K. Raghavendra Rao           13\n",
      "86           Govind Nihalani           11\n",
      "87             Nasir Hussain           11\n",
      "\n",
      "[88 rows x 2 columns]\n"
     ]
    }
   ],
   "source": [
    "print(result_4)"
   ]
  },
  {
   "cell_type": "markdown",
   "metadata": {},
   "source": [
    "#### 5.\n",
    "#### a. For each year, count the number of movies in that year that had only female actors.\n",
    "#### b. Now include a small change: report for each year the percentage of movies in that year with only female actors, and the total number of movies made that year. For example, one answer will be: 1990 31.81 13522 meaning that in 1990 there were 13,522 movies, and 31.81% had only female actors. You do not need to round your answer."
   ]
  },
  {
   "cell_type": "code",
   "execution_count": 5,
   "metadata": {},
   "outputs": [],
   "source": [
    "import pandas as pd \n",
    "\n",
    "result_5a = pd.read_sql_query('''\n",
    "                                select m.year, count(*) as movie_count from Movie m\n",
    "                                join\n",
    "                                (\n",
    "                                    select distinct mid from M_Cast  \n",
    "                                    where mid not in \n",
    "                                    (\n",
    "                                        select mc.mid from M_Cast mc \n",
    "                                        join Person p on p.pid = trim(mc.pid)\n",
    "                                        where p.gender = \\'Male\\'\n",
    "                                    )\n",
    "                                )vw on vw.mid = m.mid\n",
    "                                group by m.year\n",
    "                                \n",
    "                            ''', conn)"
   ]
  },
  {
   "cell_type": "code",
   "execution_count": 6,
   "metadata": {},
   "outputs": [
    {
     "name": "stdout",
     "output_type": "stream",
     "text": [
      "   year  movie_count\n",
      "0  1939            1\n",
      "1  1999            1\n",
      "2  2000            1\n",
      "3  2009            1\n",
      "4  2012            1\n",
      "5  2018            2\n"
     ]
    }
   ],
   "source": [
    "print(result_5a)"
   ]
  },
  {
   "cell_type": "code",
   "execution_count": 7,
   "metadata": {},
   "outputs": [],
   "source": [
    "import pandas as pd\n",
    "\n",
    "result_5b = pd.read_sql_query(\n",
    "                            '''\n",
    "                            select m.year, count(m.mid) as total_movie_count, \n",
    "                            i_vw.female_only_cast_movie_count, \n",
    "                            (i_vw.female_only_cast_movie_count*100/(count(m.mid)*1.0)) as percentage_female_only_cast_movie\n",
    "                            from Movie m \n",
    "                            left join\n",
    "                            (\n",
    "                                select m.year, count(*) as female_only_cast_movie_count from Movie m\n",
    "                                join\n",
    "                                (\n",
    "                                    select distinct mid from M_Cast  \n",
    "                                    where mid not in \n",
    "                                    (\n",
    "                                        select mc.mid from M_Cast mc \n",
    "                                        join Person p on p.pid = trim(mc.pid)\n",
    "                                        where p.gender = \\'Male\\'\n",
    "                                    )\n",
    "                                )vw on vw.mid = m.mid\n",
    "                                group by m.year\n",
    "                            )i_vw on m.year = i_vw.year\n",
    "                            group by m.year\n",
    "                            ''', conn)"
   ]
  },
  {
   "cell_type": "code",
   "execution_count": 10,
   "metadata": {},
   "outputs": [
    {
     "data": {
      "text/html": [
       "<div>\n",
       "<style scoped>\n",
       "    .dataframe tbody tr th:only-of-type {\n",
       "        vertical-align: middle;\n",
       "    }\n",
       "\n",
       "    .dataframe tbody tr th {\n",
       "        vertical-align: top;\n",
       "    }\n",
       "\n",
       "    .dataframe thead th {\n",
       "        text-align: right;\n",
       "    }\n",
       "</style>\n",
       "<table border=\"1\" class=\"dataframe\">\n",
       "  <thead>\n",
       "    <tr style=\"text-align: right;\">\n",
       "      <th></th>\n",
       "      <th>year</th>\n",
       "      <th>total_movie_count</th>\n",
       "      <th>female_only_cast_movie_count</th>\n",
       "      <th>percentage_female_only_cast_movie</th>\n",
       "    </tr>\n",
       "  </thead>\n",
       "  <tbody>\n",
       "    <tr>\n",
       "      <th>0</th>\n",
       "      <td>1931</td>\n",
       "      <td>1</td>\n",
       "      <td>NaN</td>\n",
       "      <td>NaN</td>\n",
       "    </tr>\n",
       "    <tr>\n",
       "      <th>1</th>\n",
       "      <td>1936</td>\n",
       "      <td>3</td>\n",
       "      <td>NaN</td>\n",
       "      <td>NaN</td>\n",
       "    </tr>\n",
       "    <tr>\n",
       "      <th>2</th>\n",
       "      <td>1939</td>\n",
       "      <td>2</td>\n",
       "      <td>1.0</td>\n",
       "      <td>50.000000</td>\n",
       "    </tr>\n",
       "    <tr>\n",
       "      <th>3</th>\n",
       "      <td>1941</td>\n",
       "      <td>1</td>\n",
       "      <td>NaN</td>\n",
       "      <td>NaN</td>\n",
       "    </tr>\n",
       "    <tr>\n",
       "      <th>4</th>\n",
       "      <td>1943</td>\n",
       "      <td>1</td>\n",
       "      <td>NaN</td>\n",
       "      <td>NaN</td>\n",
       "    </tr>\n",
       "    <tr>\n",
       "      <th>...</th>\n",
       "      <td>...</td>\n",
       "      <td>...</td>\n",
       "      <td>...</td>\n",
       "      <td>...</td>\n",
       "    </tr>\n",
       "    <tr>\n",
       "      <th>73</th>\n",
       "      <td>2014</td>\n",
       "      <td>126</td>\n",
       "      <td>NaN</td>\n",
       "      <td>NaN</td>\n",
       "    </tr>\n",
       "    <tr>\n",
       "      <th>74</th>\n",
       "      <td>2015</td>\n",
       "      <td>119</td>\n",
       "      <td>NaN</td>\n",
       "      <td>NaN</td>\n",
       "    </tr>\n",
       "    <tr>\n",
       "      <th>75</th>\n",
       "      <td>2016</td>\n",
       "      <td>129</td>\n",
       "      <td>NaN</td>\n",
       "      <td>NaN</td>\n",
       "    </tr>\n",
       "    <tr>\n",
       "      <th>76</th>\n",
       "      <td>2017</td>\n",
       "      <td>126</td>\n",
       "      <td>NaN</td>\n",
       "      <td>NaN</td>\n",
       "    </tr>\n",
       "    <tr>\n",
       "      <th>77</th>\n",
       "      <td>2018</td>\n",
       "      <td>104</td>\n",
       "      <td>2.0</td>\n",
       "      <td>1.923077</td>\n",
       "    </tr>\n",
       "  </tbody>\n",
       "</table>\n",
       "<p>78 rows × 4 columns</p>\n",
       "</div>"
      ],
      "text/plain": [
       "    year  total_movie_count  female_only_cast_movie_count  \\\n",
       "0   1931                  1                           NaN   \n",
       "1   1936                  3                           NaN   \n",
       "2   1939                  2                           1.0   \n",
       "3   1941                  1                           NaN   \n",
       "4   1943                  1                           NaN   \n",
       "..   ...                ...                           ...   \n",
       "73  2014                126                           NaN   \n",
       "74  2015                119                           NaN   \n",
       "75  2016                129                           NaN   \n",
       "76  2017                126                           NaN   \n",
       "77  2018                104                           2.0   \n",
       "\n",
       "    percentage_female_only_cast_movie  \n",
       "0                                 NaN  \n",
       "1                                 NaN  \n",
       "2                           50.000000  \n",
       "3                                 NaN  \n",
       "4                                 NaN  \n",
       "..                                ...  \n",
       "73                                NaN  \n",
       "74                                NaN  \n",
       "75                                NaN  \n",
       "76                                NaN  \n",
       "77                           1.923077  \n",
       "\n",
       "[78 rows x 4 columns]"
      ]
     },
     "execution_count": 10,
     "metadata": {},
     "output_type": "execute_result"
    }
   ],
   "source": [
    "result_5b.head(100)"
   ]
  },
  {
   "cell_type": "markdown",
   "metadata": {},
   "source": [
    "#### 6. Find the film(s) with the largest cast. Return the movie title and the size of the cast. By \"cast size\" we mean the number of distinct actors that played in that movie: if an actor played multiple roles, or if it simply occurs multiple times in casts, we still count her/him only once."
   ]
  },
  {
   "cell_type": "code",
   "execution_count": 18,
   "metadata": {},
   "outputs": [
    {
     "name": "stdout",
     "output_type": "stream",
     "text": [
      "         mid          title  cast_size\n",
      "0  tt5164214  Ocean's Eight        238\n"
     ]
    }
   ],
   "source": [
    "result_6 = pd.read_sql_query('''\n",
    "                            select vw.mid, m.title, max(vw.cast_count) as cast_size\n",
    "                            from\n",
    "                            (\n",
    "                                select count(*) as cast_count, mid \n",
    "                                from M_Cast group by mid \n",
    "                            )vw \n",
    "                            join Movie m on m.mid = vw.mid \n",
    "                            \n",
    "                            ''', conn)\n",
    "print(result_6)"
   ]
  },
  {
   "cell_type": "markdown",
   "metadata": {},
   "source": [
    "#### 7. A decade is a sequence of 10 consecutive years. For example, say in your database you have movie information starting from 1965. Then the first decade is 1965, 1966, ..., 1974; the second one is 1967, 1968, ..., 1976 and so on. Find the decade D with the largest number of films and the total number of films in D."
   ]
  },
  {
   "cell_type": "code",
   "execution_count": 38,
   "metadata": {},
   "outputs": [
    {
     "name": "stdout",
     "output_type": "stream",
     "text": [
      "   Decade  max(movie_counts)\n",
      "0       8               1047\n",
      "1047\n"
     ]
    }
   ],
   "source": [
    "result_7 = pd.read_sql_query('''\n",
    "                                select Decade, max(movie_counts)\n",
    "                                from \n",
    "                                (\n",
    "                                    select Decade, count(*) as movie_counts\n",
    "                                    from\n",
    "                                    (\n",
    "                                        select m.year, vw.min_year, (((m.year-vw.min_year)/10)+1) as Decade from Movie m \n",
    "                                        join \n",
    "                                        (\n",
    "                                            select min(year) as min_year from Movie\n",
    "                                        )vw on 1=1\n",
    "                                    )i_vw\n",
    "                                    group by Decade\n",
    "                                )o_vw\n",
    "                            ''', conn)\n",
    "print(result_7)\n",
    "\n",
    "#verifying results\n",
    "movie_decade_1991_2000 = pd.read_sql_query('''\n",
    "                                            select * from Movie where year >= \\'2001\\' and year <= \\'2010\\'\n",
    "                                        ''', conn)\n",
    "print(len(movie_decade_1991_2000))"
   ]
  },
  {
   "cell_type": "markdown",
   "metadata": {},
   "source": [
    "#### 8. Find the actors that were never unemployed for more than 3 years at a stretch. (Assume that the actors remain unemployed between two consecutive movies)."
   ]
  },
  {
   "cell_type": "code",
   "execution_count": 39,
   "metadata": {},
   "outputs": [
    {
     "name": "stdout",
     "output_type": "stream",
     "text": [
      "             pid             name                     title  year next_year  \\\n",
      "0      nm1869655  A. Abdul Hameed                Prem Nagar  1974      1975   \n",
      "1      nm0359845      A.K. Hangal              Teesri Kasam  1966      1967   \n",
      "2      nm0359845      A.K. Hangal                   Shagird  1967      1969   \n",
      "3      nm0359845      A.K. Hangal           Saat Hindustani  1969      1971   \n",
      "4      nm0359845      A.K. Hangal                     Guddi  1971      1971   \n",
      "...          ...              ...                       ...   ...       ...   \n",
      "42638  nm0892606      Zul Vellani    Charas: A Joint Effort  2004      2005   \n",
      "42639  nm1302631      Zulfi Sayed                    Pyaasa  2002      2003   \n",
      "42640  nm1302631      Zulfi Sayed                 Chupke Se  2003      2004   \n",
      "42641  nm1302631      Zulfi Sayed  Wajahh: A Reason to Kill  2004      2005   \n",
      "42642  nm1302631      Zulfi Sayed                Desh Drohi  2008      2008   \n",
      "\n",
      "       gap  \n",
      "0        1  \n",
      "1        1  \n",
      "2        2  \n",
      "3        2  \n",
      "4        0  \n",
      "...    ...  \n",
      "42638    1  \n",
      "42639    1  \n",
      "42640    1  \n",
      "42641    1  \n",
      "42642    0  \n",
      "\n",
      "[42643 rows x 6 columns]\n"
     ]
    }
   ],
   "source": [
    "import pandas as pd \n",
    "\n",
    "result_8 = pd.read_sql_query('''\n",
    "                            select vw.*, (vw.next_year - vw.year) as gap  \n",
    "                            from\n",
    "                            (\n",
    "                                select i_vw.pid, i_vw.name, i_vw.title, i_vw.year, \n",
    "                                    LEAD(i_vw.year, 1, 0) OVER (PARTITION BY i_vw.name ORDER BY i_vw.year ASC) AS next_year\n",
    "                                    from \n",
    "                                    (\n",
    "                                        (\n",
    "                                            select distinct trim(pid) as pid, trim(name) as name from Person \n",
    "                                        )p\n",
    "                                        join\n",
    "                                        (\n",
    "                                            select distinct trim(mid) as mid, trim(pid) as pid from M_Cast\n",
    "                                        )mc on p.pid = mc.pid \n",
    "                                        join\n",
    "                                        (\n",
    "                                            select trim(mid) as mid, trim(title) as title, trim(year) as year from Movie\n",
    "                                        )m on m.mid = mc.mid\n",
    "                                    )i_vw  \n",
    "                            )vw \n",
    "                            where vw.next_year > 0 and (vw.next_year - vw.year) < 3\n",
    "                        ''', conn)\n",
    "\n",
    "print(result_8)\n",
    "\n"
   ]
  },
  {
   "cell_type": "markdown",
   "metadata": {},
   "source": [
    "#### 9. Find all the actors that made more movies with Yash Chopra than any other director."
   ]
  },
  {
   "cell_type": "code",
   "execution_count": 28,
   "metadata": {},
   "outputs": [
    {
     "name": "stdout",
     "output_type": "stream",
     "text": [
      "    Actor_Id   Actor_Name  Non_Yash_Chopra_Directed_Movies  \\\n",
      "0  nm0007181  Yash Chopra                                1   \n",
      "1  nm1767604  Ashok Verma                                1   \n",
      "2  nm3163800        Nazir                                1   \n",
      "\n",
      "   Yash_Chopra_Directed_Movies  \n",
      "0                            2  \n",
      "1                            2  \n",
      "2                            2  \n"
     ]
    }
   ],
   "source": [
    "import pandas as pd\n",
    "\n",
    "result_9 = pd.read_sql_query('''\n",
    "                                select a.*, b.Yash_Chopra_Directed_Movies \n",
    "                                from \n",
    "                                (\n",
    "                                    select distinct trim(p.pid) as Actor_Id, \n",
    "                                    trim(p.name) as Actor_Name,   \n",
    "                                    count(distinct m.mid) as Non_Yash_Chopra_Directed_Movies \n",
    "                                    from Person p \n",
    "                                    join M_Cast mc on trim(mc.pid) = p.pid \n",
    "                                    join Movie m on m.mid = mc.mid \n",
    "                                    join M_Director md on md.mid = m.mid \n",
    "                                    join Person p1 on p1.pid = trim(md.pid)\n",
    "                                    where trim(p1.name) != \\'Yash Chopra\\'\n",
    "                                    group by trim(p.pid)\n",
    "                                )a\n",
    "                                left join\n",
    "                                (\n",
    "                                    select distinct trim(p.pid) as Actor_Id, \n",
    "                                    trim(p.name) as Actor_Name,  \n",
    "                                    trim(p1.name) as Director_Name, \n",
    "                                    count(distinct m.mid) as Yash_Chopra_Directed_Movies \n",
    "                                    from Person p \n",
    "                                    join M_Cast mc on trim(mc.pid) = p.pid \n",
    "                                    join Movie m on m.mid = mc.mid \n",
    "                                    join M_Director md on md.mid = m.mid \n",
    "                                    join Person p1 on p1.pid = trim(md.pid)\n",
    "                                    where trim(p1.name) = \\'Yash Chopra\\'\n",
    "                                    group by trim(p.pid)\n",
    "                                )b on a.Actor_Id = b.Actor_Id\n",
    "                                where b.Yash_Chopra_Directed_Movies > a.Non_Yash_Chopra_Directed_Movies\n",
    "                                \n",
    "                                \n",
    "                            ''', conn) \n",
    "\n",
    "print(result_9)"
   ]
  },
  {
   "cell_type": "markdown",
   "metadata": {},
   "source": [
    "#### 10. The Shahrukh number of an actor is the length of the shortest path between the actor and Shahrukh Khan in the \"co-acting\" graph. That is, Shahrukh Khan has Shahrukh number 0; all actors who acted in the same film as Shahrukh have Shahrukh number 1; all actors who acted in the same film as some actor with Shahrukh number 1 have Shahrukh number 2, etc. Return all actors whose Shahrukh number is 2."
   ]
  },
  {
   "cell_type": "code",
   "execution_count": null,
   "metadata": {},
   "outputs": [],
   "source": []
  }
 ],
 "metadata": {
  "kernelspec": {
   "display_name": "Python 3",
   "language": "python",
   "name": "python3"
  },
  "language_info": {
   "codemirror_mode": {
    "name": "ipython",
    "version": 3
   },
   "file_extension": ".py",
   "mimetype": "text/x-python",
   "name": "python",
   "nbconvert_exporter": "python",
   "pygments_lexer": "ipython3",
   "version": "3.6.8"
  }
 },
 "nbformat": 4,
 "nbformat_minor": 2
}
